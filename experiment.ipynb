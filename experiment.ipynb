{
 "cells": [
  {
   "cell_type": "code",
   "execution_count": 1,
   "metadata": {},
   "outputs": [],
   "source": [
    "import pandas as pd\n",
    "from scipy.stats import chi2_contingency\n",
    "import glob\n",
    "from google.cloud import bigquery\n",
    "from google.oauth2 import service_account\n",
    "from scipy.stats import shapiro\n",
    "from scipy.stats import levene\n",
    "from scipy.stats import bartlett\n",
    "from scipy.stats import anderson\n",
    "from scipy.stats import ttest_ind"
   ]
  },
  {
   "cell_type": "code",
   "execution_count": 2,
   "metadata": {},
   "outputs": [],
   "source": [
    "# 파이썬 구글 빅쿼리 연동 코드\n",
    "# json 파일\n",
    "\n",
    "key_path = glob.glob(\"*.json\")[0]\n",
    "credentials = service_account.Credentials.from_service_account_file(key_path)\n",
    "client = bigquery.Client(credentials = credentials, \n",
    "                         project = credentials.project_id)"
   ]
  },
  {
   "cell_type": "code",
   "execution_count": 3,
   "metadata": {},
   "outputs": [],
   "source": [
    "# sql 추출 및 데이터 프레임 변환\n",
    "\n",
    "def sql_to_dataframe(sql:str) -> pd.DataFrame:\n",
    "    \"\"\"\n",
    "    Args:\n",
    "        sql (str): sql for extraction\n",
    "\n",
    "    Returns:\n",
    "        pd.DataFrame: extract data with sql\n",
    "    \"\"\"\n",
    "    query_job = client.query(sql)\n",
    "    df = query_job.to_dataframe()\n",
    "    return df"
   ]
  },
  {
   "cell_type": "markdown",
   "metadata": {},
   "source": [
    "### 카이제곱 검정"
   ]
  },
  {
   "cell_type": "code",
   "execution_count": 4,
   "metadata": {},
   "outputs": [
    {
     "data": {
      "text/html": [
       "<div>\n",
       "<style scoped>\n",
       "    .dataframe tbody tr th:only-of-type {\n",
       "        vertical-align: middle;\n",
       "    }\n",
       "\n",
       "    .dataframe tbody tr th {\n",
       "        vertical-align: top;\n",
       "    }\n",
       "\n",
       "    .dataframe thead th {\n",
       "        text-align: right;\n",
       "    }\n",
       "</style>\n",
       "<table border=\"1\" class=\"dataframe\">\n",
       "  <thead>\n",
       "    <tr style=\"text-align: right;\">\n",
       "      <th></th>\n",
       "      <th>variant</th>\n",
       "      <th>completed</th>\n",
       "      <th>not_completed</th>\n",
       "    </tr>\n",
       "  </thead>\n",
       "  <tbody>\n",
       "    <tr>\n",
       "      <th>0</th>\n",
       "      <td>control</td>\n",
       "      <td>36268</td>\n",
       "      <td>13629</td>\n",
       "    </tr>\n",
       "    <tr>\n",
       "      <th>1</th>\n",
       "      <td>variant 1</td>\n",
       "      <td>38280</td>\n",
       "      <td>11995</td>\n",
       "    </tr>\n",
       "  </tbody>\n",
       "</table>\n",
       "</div>"
      ],
      "text/plain": [
       "     variant  completed  not_completed\n",
       "0    control      36268          13629\n",
       "1  variant 1      38280          11995"
      ]
     },
     "execution_count": 4,
     "metadata": {},
     "output_type": "execute_result"
    }
   ],
   "source": [
    "sql = \"\"\"\n",
    "SELECT\n",
    "  user.variant,\n",
    "  COUNT(CASE WHEN game.user_id IS NOT NULL THEN user.user_id END) AS completed,\n",
    "  COUNT(CASE WHEN game.user_id IS NULL THEN user.user_id END) AS not_completed,\n",
    "FROM `ABTest.exp_assignment` user\n",
    "LEFT JOIN `ABTest.game_actions` game on user.user_id = game.user_id AND game.action = \"onboarding complete\"\n",
    "WHERE exp_name = \"Onboarding\"\n",
    "GROUP BY user.variant\n",
    "\"\"\"\n",
    "\n",
    "df = sql_to_dataframe(sql)\n",
    "df"
   ]
  },
  {
   "cell_type": "code",
   "execution_count": 5,
   "metadata": {},
   "outputs": [
    {
     "name": "stdout",
     "output_type": "stream",
     "text": [
      "카이제곱 통계량 : 156.89437219404937\n",
      "p_value: 5.397977210897445e-36\n"
     ]
    }
   ],
   "source": [
    "control = [df.loc[0,\"completed\"], df.loc[0,\"not_completed\"]]\n",
    "variant = [df.loc[1,\"completed\"], df.loc[1,\"not_completed\"]]\n",
    "chi2, p_val, d_f, expected = chi2_contingency([control, variant])\n",
    "print(\"카이제곱 통계량 : {}\".format(chi2))\n",
    "print(\"p_value: {}\".format(p_val))"
   ]
  },
  {
   "cell_type": "markdown",
   "metadata": {},
   "source": [
    "### 2표본 t-검정"
   ]
  },
  {
   "cell_type": "code",
   "execution_count": 6,
   "metadata": {},
   "outputs": [
    {
     "data": {
      "text/html": [
       "<div>\n",
       "<style scoped>\n",
       "    .dataframe tbody tr th:only-of-type {\n",
       "        vertical-align: middle;\n",
       "    }\n",
       "\n",
       "    .dataframe tbody tr th {\n",
       "        vertical-align: top;\n",
       "    }\n",
       "\n",
       "    .dataframe thead th {\n",
       "        text-align: right;\n",
       "    }\n",
       "</style>\n",
       "<table border=\"1\" class=\"dataframe\">\n",
       "  <thead>\n",
       "    <tr style=\"text-align: right;\">\n",
       "      <th></th>\n",
       "      <th>variant</th>\n",
       "      <th>user_id</th>\n",
       "      <th>amount</th>\n",
       "    </tr>\n",
       "  </thead>\n",
       "  <tbody>\n",
       "    <tr>\n",
       "      <th>0</th>\n",
       "      <td>control</td>\n",
       "      <td>1000</td>\n",
       "      <td>0.0</td>\n",
       "    </tr>\n",
       "    <tr>\n",
       "      <th>1</th>\n",
       "      <td>control</td>\n",
       "      <td>1002</td>\n",
       "      <td>0.0</td>\n",
       "    </tr>\n",
       "    <tr>\n",
       "      <th>2</th>\n",
       "      <td>control</td>\n",
       "      <td>1004</td>\n",
       "      <td>0.0</td>\n",
       "    </tr>\n",
       "    <tr>\n",
       "      <th>3</th>\n",
       "      <td>control</td>\n",
       "      <td>1006</td>\n",
       "      <td>0.0</td>\n",
       "    </tr>\n",
       "    <tr>\n",
       "      <th>4</th>\n",
       "      <td>control</td>\n",
       "      <td>1008</td>\n",
       "      <td>0.0</td>\n",
       "    </tr>\n",
       "    <tr>\n",
       "      <th>...</th>\n",
       "      <td>...</td>\n",
       "      <td>...</td>\n",
       "      <td>...</td>\n",
       "    </tr>\n",
       "    <tr>\n",
       "      <th>100167</th>\n",
       "      <td>variant 1</td>\n",
       "      <td>101161</td>\n",
       "      <td>0.0</td>\n",
       "    </tr>\n",
       "    <tr>\n",
       "      <th>100168</th>\n",
       "      <td>variant 1</td>\n",
       "      <td>101162</td>\n",
       "      <td>0.0</td>\n",
       "    </tr>\n",
       "    <tr>\n",
       "      <th>100169</th>\n",
       "      <td>variant 1</td>\n",
       "      <td>101163</td>\n",
       "      <td>0.0</td>\n",
       "    </tr>\n",
       "    <tr>\n",
       "      <th>100170</th>\n",
       "      <td>variant 1</td>\n",
       "      <td>101169</td>\n",
       "      <td>0.0</td>\n",
       "    </tr>\n",
       "    <tr>\n",
       "      <th>100171</th>\n",
       "      <td>variant 1</td>\n",
       "      <td>101171</td>\n",
       "      <td>0.0</td>\n",
       "    </tr>\n",
       "  </tbody>\n",
       "</table>\n",
       "<p>100172 rows × 3 columns</p>\n",
       "</div>"
      ],
      "text/plain": [
       "          variant  user_id  amount\n",
       "0         control     1000     0.0\n",
       "1         control     1002     0.0\n",
       "2         control     1004     0.0\n",
       "3         control     1006     0.0\n",
       "4         control     1008     0.0\n",
       "...           ...      ...     ...\n",
       "100167  variant 1   101161     0.0\n",
       "100168  variant 1   101162     0.0\n",
       "100169  variant 1   101163     0.0\n",
       "100170  variant 1   101169     0.0\n",
       "100171  variant 1   101171     0.0\n",
       "\n",
       "[100172 rows x 3 columns]"
      ]
     },
     "execution_count": 6,
     "metadata": {},
     "output_type": "execute_result"
    }
   ],
   "source": [
    "sql = \"\"\"\n",
    "SELECT\n",
    "    user.variant,\n",
    "    user.user_id,\n",
    "    SUM(COALESCE(purchase.amount,0)) AS amount\n",
    "  FROM `ABTest.exp_assignment` user\n",
    "  LEFT JOIN `ABTest.game_purchases` purchase on user.user_id = purchase.user_id\n",
    "  WHERE user.exp_name = \"Onboarding\"\n",
    "  GROUP BY user.variant, user.user_id\n",
    "\"\"\"\n",
    "\n",
    "df = sql_to_dataframe(sql)\n",
    "df"
   ]
  },
  {
   "cell_type": "code",
   "execution_count": 7,
   "metadata": {},
   "outputs": [
    {
     "data": {
      "text/plain": [
       "Ttest_indResult(statistic=0.7765028422840674, pvalue=0.43745397673126385)"
      ]
     },
     "execution_count": 7,
     "metadata": {},
     "output_type": "execute_result"
    }
   ],
   "source": [
    "control = df.loc[df[\"variant\"] == \"control\",\"amount\"]\n",
    "variant = df.loc[df[\"variant\"] == \"variant 1\",\"amount\"]\n",
    "ttest_ind(control, variant,alternative = \"two-sided\")"
   ]
  },
  {
   "cell_type": "code",
   "execution_count": 8,
   "metadata": {},
   "outputs": [
    {
     "data": {
      "text/html": [
       "<div>\n",
       "<style scoped>\n",
       "    .dataframe tbody tr th:only-of-type {\n",
       "        vertical-align: middle;\n",
       "    }\n",
       "\n",
       "    .dataframe tbody tr th {\n",
       "        vertical-align: top;\n",
       "    }\n",
       "\n",
       "    .dataframe thead th {\n",
       "        text-align: right;\n",
       "    }\n",
       "</style>\n",
       "<table border=\"1\" class=\"dataframe\">\n",
       "  <thead>\n",
       "    <tr style=\"text-align: right;\">\n",
       "      <th></th>\n",
       "      <th>variant</th>\n",
       "      <th>user_id</th>\n",
       "      <th>amount</th>\n",
       "    </tr>\n",
       "  </thead>\n",
       "  <tbody>\n",
       "    <tr>\n",
       "      <th>0</th>\n",
       "      <td>control</td>\n",
       "      <td>1000</td>\n",
       "      <td>0.0</td>\n",
       "    </tr>\n",
       "    <tr>\n",
       "      <th>1</th>\n",
       "      <td>control</td>\n",
       "      <td>1002</td>\n",
       "      <td>0.0</td>\n",
       "    </tr>\n",
       "    <tr>\n",
       "      <th>2</th>\n",
       "      <td>control</td>\n",
       "      <td>1004</td>\n",
       "      <td>0.0</td>\n",
       "    </tr>\n",
       "    <tr>\n",
       "      <th>3</th>\n",
       "      <td>control</td>\n",
       "      <td>1006</td>\n",
       "      <td>0.0</td>\n",
       "    </tr>\n",
       "    <tr>\n",
       "      <th>4</th>\n",
       "      <td>control</td>\n",
       "      <td>1008</td>\n",
       "      <td>0.0</td>\n",
       "    </tr>\n",
       "    <tr>\n",
       "      <th>...</th>\n",
       "      <td>...</td>\n",
       "      <td>...</td>\n",
       "      <td>...</td>\n",
       "    </tr>\n",
       "    <tr>\n",
       "      <th>74543</th>\n",
       "      <td>variant 1</td>\n",
       "      <td>101158</td>\n",
       "      <td>0.0</td>\n",
       "    </tr>\n",
       "    <tr>\n",
       "      <th>74544</th>\n",
       "      <td>variant 1</td>\n",
       "      <td>101161</td>\n",
       "      <td>0.0</td>\n",
       "    </tr>\n",
       "    <tr>\n",
       "      <th>74545</th>\n",
       "      <td>variant 1</td>\n",
       "      <td>101162</td>\n",
       "      <td>0.0</td>\n",
       "    </tr>\n",
       "    <tr>\n",
       "      <th>74546</th>\n",
       "      <td>variant 1</td>\n",
       "      <td>101169</td>\n",
       "      <td>0.0</td>\n",
       "    </tr>\n",
       "    <tr>\n",
       "      <th>74547</th>\n",
       "      <td>variant 1</td>\n",
       "      <td>101171</td>\n",
       "      <td>0.0</td>\n",
       "    </tr>\n",
       "  </tbody>\n",
       "</table>\n",
       "<p>74548 rows × 3 columns</p>\n",
       "</div>"
      ],
      "text/plain": [
       "         variant  user_id  amount\n",
       "0        control     1000     0.0\n",
       "1        control     1002     0.0\n",
       "2        control     1004     0.0\n",
       "3        control     1006     0.0\n",
       "4        control     1008     0.0\n",
       "...          ...      ...     ...\n",
       "74543  variant 1   101158     0.0\n",
       "74544  variant 1   101161     0.0\n",
       "74545  variant 1   101162     0.0\n",
       "74546  variant 1   101169     0.0\n",
       "74547  variant 1   101171     0.0\n",
       "\n",
       "[74548 rows x 3 columns]"
      ]
     },
     "execution_count": 8,
     "metadata": {},
     "output_type": "execute_result"
    }
   ],
   "source": [
    "sql = \"\"\"\n",
    "SELECT\n",
    "    user.variant,\n",
    "    user.user_id,\n",
    "    SUM(COALESCE(purchase.amount,0)) AS amount\n",
    "  FROM `ABTest.exp_assignment` user\n",
    "  LEFT JOIN `ABTest.game_purchases` purchase ON user.user_id = purchase.user_id\n",
    "  INNER JOIN `ABTest.game_actions` game ON user.user_id = game.user_id AND game.action = \"onboarding complete\"\n",
    "  WHERE user.exp_name = \"Onboarding\"\n",
    "  GROUP BY user.variant, user.user_id\n",
    "\"\"\"\n",
    "\n",
    "df = sql_to_dataframe(sql)\n",
    "df"
   ]
  },
  {
   "cell_type": "code",
   "execution_count": 9,
   "metadata": {},
   "outputs": [
    {
     "data": {
      "text/plain": [
       "Ttest_indResult(statistic=2.230059135584021, pvalue=0.012873241296382431)"
      ]
     },
     "execution_count": 9,
     "metadata": {},
     "output_type": "execute_result"
    }
   ],
   "source": [
    "control = df.loc[df[\"variant\"] == \"control\", \"amount\"]\n",
    "variant = df.loc[df[\"variant\"] == \"variant 1\", \"amount\"]\n",
    "ttest_ind(control, variant, alternative = \"greater\")"
   ]
  },
  {
   "cell_type": "markdown",
   "metadata": {},
   "source": [
    "### 구매 전환율"
   ]
  },
  {
   "cell_type": "code",
   "execution_count": 10,
   "metadata": {},
   "outputs": [
    {
     "data": {
      "text/html": [
       "<div>\n",
       "<style scoped>\n",
       "    .dataframe tbody tr th:only-of-type {\n",
       "        vertical-align: middle;\n",
       "    }\n",
       "\n",
       "    .dataframe tbody tr th {\n",
       "        vertical-align: top;\n",
       "    }\n",
       "\n",
       "    .dataframe thead th {\n",
       "        text-align: right;\n",
       "    }\n",
       "</style>\n",
       "<table border=\"1\" class=\"dataframe\">\n",
       "  <thead>\n",
       "    <tr style=\"text-align: right;\">\n",
       "      <th></th>\n",
       "      <th>variant</th>\n",
       "      <th>total_cohorted</th>\n",
       "      <th>purchasers</th>\n",
       "      <th>pct_purchased</th>\n",
       "    </tr>\n",
       "  </thead>\n",
       "  <tbody>\n",
       "    <tr>\n",
       "      <th>0</th>\n",
       "      <td>control</td>\n",
       "      <td>36268</td>\n",
       "      <td>4988</td>\n",
       "      <td>0.137532</td>\n",
       "    </tr>\n",
       "    <tr>\n",
       "      <th>1</th>\n",
       "      <td>variant 1</td>\n",
       "      <td>38280</td>\n",
       "      <td>4981</td>\n",
       "      <td>0.130120</td>\n",
       "    </tr>\n",
       "  </tbody>\n",
       "</table>\n",
       "</div>"
      ],
      "text/plain": [
       "     variant  total_cohorted  purchasers  pct_purchased\n",
       "0    control           36268        4988       0.137532\n",
       "1  variant 1           38280        4981       0.130120"
      ]
     },
     "execution_count": 10,
     "metadata": {},
     "output_type": "execute_result"
    }
   ],
   "source": [
    "sql = \"\"\"\n",
    "SELECT\n",
    "  variant,\n",
    "  COUNT(DISTINCT user.user_id) AS total_cohorted,\n",
    "  COUNT(DISTINCT purchase.user_id) AS purchasers,\n",
    "  COUNT(DISTINCT purchase.user_id) * 1.0 / COUNT(DISTINCT user.user_id) AS pct_purchased\n",
    "FROM `ABTest.exp_assignment` user\n",
    "LEFT JOIN `ABTest.game_purchases` purchase ON user.user_id = purchase.user_id\n",
    "INNER JOIN `ABTest.game_actions` game ON user.user_id = game.user_id AND game.action = \"onboarding complete\"\n",
    "WHERE user.exp_name = \"Onboarding\"\n",
    "GROUP BY user.variant\n",
    "\"\"\"\n",
    "\n",
    "df = sql_to_dataframe(sql)\n",
    "df"
   ]
  },
  {
   "cell_type": "code",
   "execution_count": 11,
   "metadata": {},
   "outputs": [
    {
     "name": "stdout",
     "output_type": "stream",
     "text": [
      "카이제곱 통계량 : 8.76705127020291\n",
      "p_value: 0.0030672092210595144\n"
     ]
    }
   ],
   "source": [
    "control = [df.loc[0,\"purchasers\"], df.loc[0,\"total_cohorted\"] - df.loc[0,\"purchasers\"]]\n",
    "variant = [df.loc[1,\"purchasers\"], df.loc[1,\"total_cohorted\"] - df.loc[1,\"purchasers\"]]\n",
    "chi2, p_val, d_f, expected = chi2_contingency([control, variant])\n",
    "print(\"카이제곱 통계량 : {}\".format(chi2))\n",
    "print(\"p_value: {}\".format(p_val))"
   ]
  }
 ],
 "metadata": {
  "kernelspec": {
   "display_name": "base",
   "language": "python",
   "name": "python3"
  },
  "language_info": {
   "codemirror_mode": {
    "name": "ipython",
    "version": 3
   },
   "file_extension": ".py",
   "mimetype": "text/x-python",
   "name": "python",
   "nbconvert_exporter": "python",
   "pygments_lexer": "ipython3",
   "version": "3.10.9"
  },
  "orig_nbformat": 4
 },
 "nbformat": 4,
 "nbformat_minor": 2
}
